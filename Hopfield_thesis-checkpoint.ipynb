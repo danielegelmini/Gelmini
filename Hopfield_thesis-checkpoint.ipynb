{
 "cells": [
  {
   "cell_type": "markdown",
   "id": "cc977f9e-deec-4f76-b954-fce53f4622b0",
   "metadata": {
    "slideshow": {
     "slide_type": "slide"
    }
   },
   "source": [
    "# Hopfield Networks"
   ]
  },
  {
   "cell_type": "markdown",
   "id": "7724a932",
   "metadata": {
    "slideshow": {
     "slide_type": "slide"
    }
   },
   "source": [
    "In questo file ho usato in due modi diversi il network di Hopfield:\n",
    "\n",
    "    1. Nella prima parte ho creato una matrice di dimensioni n e N in maniera causuale. Ogni elemento può essere 1 o -1. Preso casualmente una riga n-essima, questa viene modificata e data al network. Quest'ultimo farà in modo di riottenere l'originale. \n",
    "    2. Nella seconda parte ho creato delle immagini raffiguranti delle lettere dell'alfabeto in maiuscolo. Dopo averne selezionate alcune le posso considerare come memorie. Ne modifico una casualmente, il network farà in modo di riottenere l'originale.\n",
    "In entrambi i casi è stato usato sia un approccio sincrono che asincrono."
   ]
  },
  {
   "cell_type": "markdown",
   "id": "b9b95424-6227-4854-a21e-874c2dfd14df",
   "metadata": {
    "slideshow": {
     "slide_type": "skip"
    },
    "tags": []
   },
   "source": [
    "## Functions"
   ]
  },
  {
   "cell_type": "code",
   "execution_count": 453,
   "id": "d0b87c3a-0af6-41c7-a1c6-3fee40688e7c",
   "metadata": {
    "slideshow": {
     "slide_type": "skip"
    }
   },
   "outputs": [],
   "source": [
    "import numpy as np\n",
    "import matplotlib.pyplot as plt\n",
    "import copy\n",
    "from scipy.spatial.distance import hamming\n",
    "from imageio import imread\n",
    "import random\n",
    "from PIL import Image, ImageDraw, ImageFont\n",
    "import os\n",
    "def IsScalar(x):\n",
    "    \"\"\"\n",
    "    Verifica se il valore x è uno scalare.\n",
    "\n",
    "    Input:\n",
    "        x: Valore da verificare\n",
    "\n",
    "    Output:\n",
    "        True se x è uno scalare, False altrimenti\n",
    "    \"\"\"\n",
    "    if isinstance(x, (list, np.ndarray)):\n",
    "        return False\n",
    "    else:\n",
    "        return True\n",
    "\n",
    "def Thresh(x):\n",
    "    \"\"\"\n",
    "    Imposta i valori degli elementi di x a 1 se positivi, a -1 se negativi,\n",
    "    o crea un array di 1 e -1 in base ai valori di x se x è un array.\n",
    "\n",
    "    Input:\n",
    "        x: Valore o array di valori\n",
    "\n",
    "    Output:\n",
    "        Valore o array di valori modificati secondo la logica di Thresh\n",
    "    \"\"\"\n",
    "    if IsScalar(x):\n",
    "        val = 1 if x > 0 else -1\n",
    "    else:\n",
    "        val = np.ones_like(x)\n",
    "        val[x < 0] = -1\n",
    "    return val\n",
    "\n",
    "def Energy(W, b, X):\n",
    "    \"\"\"\n",
    "    Calcola l'energia di un insieme di pattern utilizzando i pesi e il bias dati.\n",
    "\n",
    "    Input:\n",
    "        W: Matrice dei pesi\n",
    "        b: Bias\n",
    "        X: Insieme di pattern (righe: pattern, colonne: attributi)\n",
    "\n",
    "    Output:\n",
    "        Lista delle energie calcolate per ogni pattern in X\n",
    "    \"\"\"\n",
    "    E = []\n",
    "    for xx in X:\n",
    "        energy = -0.5 * (xx @ W) @ xx.T + b @ xx.T\n",
    "        E.append(energy)\n",
    "    return E\n",
    "\n",
    "def Update(W, x, b):\n",
    "    \"\"\"\n",
    "    Calcola l'update di un pattern dato i pesi e il bias.\n",
    "\n",
    "    Input:\n",
    "        W: Matrice dei pesi\n",
    "        x: Pattern da aggiornare\n",
    "        b: Bias\n",
    "\n",
    "    Output:\n",
    "        Nuovo pattern aggiornato\n",
    "    \"\"\"\n",
    "    xnew = x @ W - b\n",
    "    return Thresh(xnew)\n",
    "\n",
    "def Perturb(x, p):\n",
    "    \"\"\"\n",
    "    Perturba un pattern con una certa probabilità p.\n",
    "\n",
    "    Input:\n",
    "        x: Pattern da perturbare\n",
    "        p: Probabilità di perturbazione\n",
    "\n",
    "    Output:\n",
    "        Nuovo pattern perturbato\n",
    "    \"\"\"\n",
    "    y = copy.deepcopy(x)\n",
    "    for yy in y:\n",
    "        for k in range(len(yy)):\n",
    "            if np.random.rand() < p:\n",
    "                yy[k] = Thresh(np.random.randint(2) * 2 - 1)\n",
    "    return y\n",
    "\n",
    "def format_mem_similarity(idx, similarity, is_correct):\n",
    "    \"\"\"\n",
    "    Formatta l'output della percentuale di assomiglianza tra pattern.\n",
    "\n",
    "    Input:\n",
    "        idx: Indice del pattern\n",
    "        similarity: Percentuale di assomiglianza\n",
    "        is_correct: True se il pattern è corretto, False altrimenti\n",
    "\n",
    "    Output:\n",
    "        Stringa formattata con l'informazione sulla similarità\n",
    "    \"\"\"\n",
    "    if is_correct:\n",
    "        return '\\033[1m\\033[2m\\033[3mLa memoria {:2d} è corretta al {:3.0f}%\\033[0m'.format(idx, similarity)\n",
    "    else:\n",
    "        return 'La memoria {:2d} è corretta al {:3.0f}%'.format(idx, similarity)"
   ]
  },
  {
   "cell_type": "markdown",
   "id": "61be9ac3-f02a-4ba6-a3a7-10b6bbb5d891",
   "metadata": {
    "slideshow": {
     "slide_type": "slide"
    },
    "tags": []
   },
   "source": [
    "## Binary code"
   ]
  },
  {
   "cell_type": "code",
   "execution_count": 454,
   "id": "96e3ee73-03e3-4b47-bd91-800c2c4f28f2",
   "metadata": {
    "slideshow": {
     "slide_type": "subslide"
    }
   },
   "outputs": [],
   "source": [
    "#Introduco le variabili del problema\n",
    "n_b = 10  # Numero di memorie\n",
    "N_b = 100  # Dimensioni delle memorie\n",
    "X_b = Thresh(np.random.normal(size=(n_b, N_b))) # Matrice formata da n pattern di lunghezza N casuali\n",
    "\n",
    "b_b = np.zeros((1, N_b)) # Bias\n",
    "b_b = np.sum(X_b, axis=0) / n_b \n",
    "W_b = (X_b.T @ X_b) / n_b - np.eye(N_b) # Pesi"
   ]
  },
  {
   "cell_type": "code",
   "execution_count": 455,
   "id": "c58f2257-522a-4e49-b61d-3e3cce872b1c",
   "metadata": {
    "slideshow": {
     "slide_type": "fragment"
    }
   },
   "outputs": [
    {
     "name": "stdout",
     "output_type": "stream",
     "text": [
      "Classe 0 con 17.0 errori\n"
     ]
    }
   ],
   "source": [
    "# Modifico una memoria e mi calcolo di quanto differisce dall'originale con la funzione di hamming\n",
    "k_b = np.random.randint(n_b)\n",
    "Y_b = Perturb(X_b, p=0.4)\n",
    "x_b = Y_b[k_b:k_b + 1, :] # memoria perturbata\n",
    "err_b = hamming(x_b[0], X_b[k_b]) * len(x_b[0])\n",
    "print('Classe ' + str(k_b) + ' con ' + str(err_b) + ' errori')"
   ]
  },
  {
   "cell_type": "code",
   "execution_count": 456,
   "id": "c6a635cc-461a-4325-879d-979ecd1e484a",
   "metadata": {
    "slideshow": {
     "slide_type": "skip"
    }
   },
   "outputs": [],
   "source": [
    "# Definisco delle quantità da poter modificare e il numero di iterazioni da svolgere\n",
    "xs_b = copy.deepcopy(x_b)\n",
    "xa_b = copy.deepcopy(x_b)\n",
    "n_iters_b = 150"
   ]
  },
  {
   "cell_type": "code",
   "execution_count": 457,
   "id": "f8d46032-5c63-40a3-8e63-f08269ae3d38",
   "metadata": {
    "slideshow": {
     "slide_type": "skip"
    }
   },
   "outputs": [],
   "source": [
    "# Update sincrono \n",
    "Es_b = []\n",
    "for _ in range(n_iters_b): # per ogni ciclo si aggiorna ogni neurone\n",
    "    xs_b = Update(W_b, xs_b, b_b)\n",
    "    Es_b.append(Energy(W_b, b_b, xs_b))"
   ]
  },
  {
   "cell_type": "code",
   "execution_count": 458,
   "id": "e34e9257-0a30-4182-bc65-540c1d7f8125",
   "metadata": {
    "slideshow": {
     "slide_type": "skip"
    }
   },
   "outputs": [],
   "source": [
    "# Update asincrono \n",
    "xa_b = np.copy(x_b)\n",
    "Ea_b = []\n",
    "for count_b in range(n_iters_b):\n",
    "    node_idx_b = list(range(N_b))\n",
    "    np.random.shuffle(node_idx_b) \n",
    "    for i_b in node_idx_b: # per ogni iterazione scelgo un nodo i-esimo e calcolo l'update per esso\n",
    "        ic_b = xa_b @ W_b[:, i_b] - b_b[i_b] # prodotto tra xa e colonna i-esima della matrice pesi meno il bias associato al nodo i-esimo\n",
    "        xa_b[0, i_b] = Thresh(ic_b)          # assegna il risultato al nodo i-esimo nell'array xa. \n",
    "        Ea_b.append(Energy(W_b, b_b, xa_b))"
   ]
  },
  {
   "cell_type": "code",
   "execution_count": 459,
   "id": "c8bf7411-e223-439c-948d-188aacd89958",
   "metadata": {
    "slideshow": {
     "slide_type": "subslide"
    }
   },
   "outputs": [
    {
     "data": {
      "image/png": "[encoded data removed]",
      "text/plain": [
       "<Figure size 720x432 with 1 Axes>"
      ]
     },
     "metadata": {
      "needs_background": "light"
     },
     "output_type": "display_data"
    }
   ],
   "source": [
    "#Grafico dell'andamento dell'energia per ogni iterazione\n",
    "Ea_graph_b = np.array(Ea_b[:n_iters_b])\n",
    "Es_graph_b = np.array([e_b[0] for e_b in Es_b])\n",
    "n_iters_vett_b = np.arange(0, n_iters_b)\n",
    "\n",
    "plt.figure(figsize=(10, 6))\n",
    "plt.plot(n_iters_vett_b, Ea_graph_b, marker='o', label='Energia update asincrono')\n",
    "plt.plot(n_iters_vett_b, Es_graph_b, marker='x', label='Energia update sincrono')\n",
    "plt.xlabel('Numero di Iterazioni')\n",
    "plt.ylabel('Energia')\n",
    "plt.title('Variazione dell\\'energia in funzione del numero di iterazioni')\n",
    "plt.grid(True)\n",
    "plt.legend()\n",
    "plt.show()"
   ]
  },
  {
   "cell_type": "code",
   "execution_count": 460,
   "id": "0af0a54c-8b15-46d4-b972-9d902df7eb5b",
   "metadata": {
    "slideshow": {
     "slide_type": "subslide"
    }
   },
   "outputs": [
    {
     "name": "stdout",
     "output_type": "stream",
     "text": [
      "La classe corretta è la 0\n",
      "-------------------------------------------------------------------\n",
      "         Update Sincrono                   Update Asincrono\n",
      "-------------------------------------------------------------------\n",
      "\u001b[1m\u001b[2m\u001b[3mLa memoria  0 è corretta al 100%\u001b[0m | \u001b[1m\u001b[2m\u001b[3mLa memoria  0 è corretta al 100%\u001b[0m\n",
      "La memoria  1 è corretta al  47% | La memoria  1 è corretta al  47%\n",
      "La memoria  2 è corretta al  39% | La memoria  2 è corretta al  39%\n",
      "La memoria  3 è corretta al  50% | La memoria  3 è corretta al  50%\n",
      "La memoria  4 è corretta al  52% | La memoria  4 è corretta al  52%\n",
      "La memoria  5 è corretta al  48% | La memoria  5 è corretta al  48%\n",
      "La memoria  6 è corretta al  55% | La memoria  6 è corretta al  55%\n",
      "La memoria  7 è corretta al  50% | La memoria  7 è corretta al  50%\n",
      "La memoria  8 è corretta al  59% | La memoria  8 è corretta al  59%\n",
      "La memoria  9 è corretta al  47% | La memoria  9 è corretta al  47%\n"
     ]
    }
   ],
   "source": [
    "#Stampo la percentuale per cui x differisce da ogni singola memoria\n",
    "print('La classe corretta è la ' + str(k_b))\n",
    "print('-' * 67)\n",
    "print('         Update Sincrono                   Update Asincrono')\n",
    "print('-' * 67)\n",
    "\n",
    "for idx, (t_sync, t_async) in enumerate(zip(X_b, X_b)):\n",
    "    ds_sync_b = hamming(xs_b[0], t_sync) * len(xs_b[0])  #calcolo il numero di errori\n",
    "    da_async_b = hamming(xa_b[0], t_async) * len(xa_b[0])\n",
    "    \n",
    "    similarity_sync_b = ((len(xs_b[0]) - ds_sync_b) / len(xs_b[0])) * 100   #calcolo la percentuale di errore\n",
    "    similarity_async_b = ((len(xa_b[0]) - da_async_b) / len(xa_b[0])) * 100\n",
    "    \n",
    "    formatted_text_sync_b = format_mem_similarity(idx, similarity_sync_b, idx == k_b)\n",
    "    formatted_text_async_b = format_mem_similarity(idx, similarity_async_b, idx == k_b)\n",
    "    \n",
    "    print(f'{formatted_text_sync_b} | {formatted_text_async_b}')"
   ]
  },
  {
   "cell_type": "markdown",
   "id": "3b045a96-702b-4e5e-8d16-47ef6fba8593",
   "metadata": {
    "slideshow": {
     "slide_type": "slide"
    },
    "tags": []
   },
   "source": [
    "## Letters"
   ]
  },
  {
   "cell_type": "code",
   "execution_count": 461,
   "id": "7ee98d56-2d31-4a60-8161-e75065086bc3",
   "metadata": {
    "slideshow": {
     "slide_type": "skip"
    }
   },
   "outputs": [],
   "source": [
    "# Definisco le dimensioni dell'immagine da creare\n",
    "width, height = 6,6\n",
    "\n",
    "# Lista delle lettere dell'alfabeto\n",
    "letters = 'ABCDEFGHIJKLMNOPRSTUVWXYZ' #non considero la Q in quanto risulta identica alla O\n",
    "\n",
    "# Crea la cartella \"images\" se non esiste\n",
    "if not os.path.exists('images'):\n",
    "    os.makedirs('images')\n",
    "\n",
    "# Creo e salvo le immagini\n",
    "for letter in letters:\n",
    "    image = Image.new('L', (width, height), color='white')  \n",
    "    draw = ImageDraw.Draw(image)\n",
    "    # Posiziono il testo al centro dell'immagine\n",
    "    font = ImageFont.load_default()  # Usa il font di default\n",
    "    text_width, text_height = draw.textsize(letter, font=font)\n",
    "    x = (width - text_width) // 2\n",
    "    y = (height - text_height) // 2\n",
    "    draw.text((x, y), letter, fill='black')\n",
    "    image = image.crop((0, 0, width, height))  # Riduco l'immagine alle dimensioni corrette\n",
    "    image.save(f'images/{letter}.png')  # Salvo l'immagine"
   ]
  },
  {
   "cell_type": "code",
   "execution_count": 462,
   "id": "48bd8029-10ad-4a0f-a7ec-5d233de9ef41",
   "metadata": {
    "slideshow": {
     "slide_type": "subslide"
    }
   },
   "outputs": [
    {
     "data": {
      "image/png": "[encoded data removed]",
      "text/plain": [
       "<Figure size 864x720 with 25 Axes>"
      ]
     },
     "metadata": {
      "needs_background": "light"
     },
     "output_type": "display_data"
    }
   ],
   "source": [
    "# Visualizzo le immagini create\n",
    "plt.figure(figsize=(12,10))\n",
    "for idx, letter in enumerate(letters):\n",
    "    image_path = f'images/{letter}.png'\n",
    "    img = plt.imread(image_path)\n",
    "    plt.subplot(6, 8, idx + 1)\n",
    "    plt.imshow(img, cmap='tab20c')  \n",
    "    plt.title(letter)\n",
    "    plt.axis('off')\n",
    "\n",
    "plt.tight_layout()\n",
    "plt.show()"
   ]
  },
  {
   "cell_type": "code",
   "execution_count": 463,
   "id": "f1cb5b7e-c436-4f73-b893-74798e9fab95",
   "metadata": {
    "slideshow": {
     "slide_type": "subslide"
    }
   },
   "outputs": [
    {
     "data": {
      "image/png": "[encoded data removed]",
      "text/plain": [
       "<Figure size 1152x288 with 4 Axes>"
      ]
     },
     "metadata": {
      "needs_background": "light"
     },
     "output_type": "display_data"
    }
   ],
   "source": [
    "letters = []\n",
    "\n",
    "#seleziono alcune lettere\n",
    "letters.append(imread('images/A.png'))\n",
    "letters.append(imread('images/U.png'))\n",
    "letters.append(imread('images/W.png'))\n",
    "letters.append(imread('images/T.png'))\n",
    "\n",
    "#Introduco le variabili del problema\n",
    "b = np.zeros((1, N)) #bias\n",
    "b = np.sum(X, axis=0) / n\n",
    "W = (X.T @ X) / n - np.eye(N) #Pesi\n",
    "\n",
    "n = len(letters) # Numero di memorie\n",
    "N = len(letters[0].flatten()) # Dimensioni delle memorie\n",
    "X = np.zeros((n, N))\n",
    "for idx, img in enumerate(letters):  #trasformo le immagini in matrice X\n",
    "    X[idx, :] = Thresh(np.array([img.flatten() - 0.5]))\n",
    "    \n",
    "plt.figure(figsize=(16, 4))\n",
    "for k in range(n):\n",
    "    plt.subplot(1, n, k + 1)\n",
    "    plt.imshow(np.reshape(X[k], (width, height)), cmap='tab20c')\n",
    "    plt.axis('off')"
   ]
  },
  {
   "cell_type": "code",
   "execution_count": 464,
   "id": "2e3269b3-1421-4282-94fa-69b4d8ec0931",
   "metadata": {
    "slideshow": {
     "slide_type": "subslide"
    }
   },
   "outputs": [
    {
     "name": "stdout",
     "output_type": "stream",
     "text": [
      "Classe 0 con 3.0 errori\n"
     ]
    },
    {
     "data": {
      "image/png": "[encoded data removed]",
      "text/plain": [
       "<Figure size 432x288 with 1 Axes>"
      ]
     },
     "metadata": {
      "needs_background": "light"
     },
     "output_type": "display_data"
    }
   ],
   "source": [
    "# Modifico una memoria e mi calcolo di quanto differisce dall'originale con la funzione di hamming\n",
    "k = np.random.randint(n)\n",
    "Y = Perturb(X, p=0.2)\n",
    "x = Y[k:k+1, :] # memoria perturbata\n",
    "x[0, round(width*height * 2/3):] = -1. # imposto un terzo dell'immagine pari a -1, ovvero è come se tagliassi il fondo dell'immagine \n",
    "err = hamming(x[0], X[k]) * len(x[0])\n",
    "print('Classe ' + str(k) + ' con ' + str(err) + ' errori')\n",
    "plt.imshow(np.reshape(x, [width, height]), cmap='tab20c')\n",
    "plt.gca().set_axis_off()"
   ]
  },
  {
   "cell_type": "code",
   "execution_count": 465,
   "id": "ddb8be9d-1825-400b-b115-c162e3cc1999",
   "metadata": {
    "slideshow": {
     "slide_type": "skip"
    }
   },
   "outputs": [],
   "source": [
    "n_iters = 200"
   ]
  },
  {
   "cell_type": "code",
   "execution_count": 466,
   "id": "38e6be1f-bb0c-471c-82e9-2ea2edb6dbe3",
   "metadata": {
    "slideshow": {
     "slide_type": "skip"
    }
   },
   "outputs": [],
   "source": [
    "#Update sincrono\n",
    "xs = copy.deepcopy(x)\n",
    "xs = xs.reshape(1, -1) #mi assicuro che xs sia una matrice unidimensionale con una sola riga\n",
    "\n",
    "Es = []\n",
    "for _ in range(n_iters): # per ogni ciclo si aggiorna ogni neurone\n",
    "    Es.append(Energy(W, b, xs))\n",
    "    xs = Update(W, xs, b)\n",
    "    \n",
    "    \n",
    "Es_graph = np.array([e[0] for e in Es])"
   ]
  },
  {
   "cell_type": "code",
   "execution_count": 467,
   "id": "83c4ae1f-5e34-4bc3-9e11-0eaf36e512bd",
   "metadata": {
    "slideshow": {
     "slide_type": "skip"
    }
   },
   "outputs": [],
   "source": [
    "#Update asincrono\n",
    "xa = np.copy(x)\n",
    "xa = xa.reshape(1, -1)\n",
    "\n",
    "Ea = []\n",
    "for count in range(n_iters):\n",
    "    node_idx = list(range(N))\n",
    "    random.shuffle(node_idx)\n",
    "    for i in node_idx: # per ogni iterazione scelgo un nodo i-esimo e calcolo l'update per esso\n",
    "        Ea.append(Energy(W, b, xa)) \n",
    "        ic = xa @ W[:, i] - b[i]  # prodotto tra xa e colonna i-esima della matrice pesi meno il bias associato al nodo i-esimo\n",
    "        xa[0, i] = Thresh(ic) # assegna il risultato al nodo i-esimo nell'array xa. \n",
    "        \n",
    "\n",
    "Ea_graph = np.array(Ea[:n_iters])"
   ]
  },
  {
   "cell_type": "code",
   "execution_count": 468,
   "id": "7e95aaa6-8144-449b-991a-3b5f6eb407b4",
   "metadata": {
    "slideshow": {
     "slide_type": "subslide"
    }
   },
   "outputs": [
    {
     "data": {
      "image/png": "[encoded data removed]",
      "text/plain": [
       "<Figure size 720x432 with 1 Axes>"
      ]
     },
     "metadata": {
      "needs_background": "light"
     },
     "output_type": "display_data"
    }
   ],
   "source": [
    "#Grafico dell'andamento dell'energia per ogni iterazione\n",
    "n_iters_vett = np.arange(0, n_iters)\n",
    "plt.figure(figsize=(10, 6))\n",
    "plt.plot(n_iters_vett, Ea_graph, marker='o', label='Energia update asincrono')\n",
    "plt.plot(n_iters_vett, Es_graph, marker='x', label='Energia update sincrono')\n",
    "plt.xlabel('Numero di Iterazioni')\n",
    "plt.ylabel('Energia')\n",
    "plt.title('Variazione dell\\'energia in funzione del numero di iterazioni')\n",
    "plt.grid(True)\n",
    "plt.legend()\n",
    "plt.show()"
   ]
  },
  {
   "cell_type": "code",
   "execution_count": 469,
   "id": "c82b037e-129c-4ac0-91e5-f097162d2719",
   "metadata": {
    "slideshow": {
     "slide_type": "subslide"
    }
   },
   "outputs": [
    {
     "name": "stdout",
     "output_type": "stream",
     "text": [
      "La classe corretta è la 0\n",
      "-------------------------------------------------------------------\n",
      "         Update Sincrono                   Update Asincrono\n",
      "-------------------------------------------------------------------\n",
      "\u001b[1m\u001b[2m\u001b[3mLa memoria  0 è corretta al 100%\u001b[0m | \u001b[1m\u001b[2m\u001b[3mLa memoria  0 è corretta al 100%\u001b[0m\n",
      "La memoria  1 è corretta al  64% | La memoria  1 è corretta al  64%\n",
      "La memoria  2 è corretta al  47% | La memoria  2 è corretta al  47%\n",
      "La memoria  3 è corretta al  58% | La memoria  3 è corretta al  58%\n"
     ]
    }
   ],
   "source": [
    "#Stampo la percentuale per cui x differisce da ogni singola memoria\n",
    "print('La classe corretta è la ' + str(k))\n",
    "print('-' * 67)\n",
    "print('         Update Sincrono                   Update Asincrono')\n",
    "print('-' * 67)\n",
    "\n",
    "for idx, (t_sync, t_async) in enumerate(zip(X, X)):\n",
    "    ds_sync = hamming(xs[0], t_sync) * len(xs[0])\n",
    "    da_async = hamming(xa[0], t_async) * len(xa[0])\n",
    "    \n",
    "    similarity_sync = ((len(xs[0]) - ds_sync) / len(xs[0])) * 100\n",
    "    similarity_async = ((len(xa[0]) - da_async) / len(xa[0])) * 100\n",
    "    \n",
    "    formatted_text_sync = format_mem_similarity(idx, similarity_sync, idx == k)\n",
    "    formatted_text_async = format_mem_similarity(idx, similarity_async, idx == k)\n",
    "    \n",
    "    print(f'{formatted_text_sync} | {formatted_text_async}')"
   ]
  },
  {
   "cell_type": "code",
   "execution_count": 470,
   "id": "0947f122-236b-4c6b-a272-8c00c2b21491",
   "metadata": {
    "slideshow": {
     "slide_type": "subslide"
    }
   },
   "outputs": [
    {
     "data": {
      "image/png": "[encoded data removed]",
      "text/plain": [
       "<Figure size 432x288 with 4 Axes>"
      ]
     },
     "metadata": {
      "needs_background": "light"
     },
     "output_type": "display_data"
    }
   ],
   "source": [
    "#Grafico la memoria originale, quella modificata e quella ottenuta con i due update\n",
    "plt.subplot(1, 4, 1)\n",
    "plt.imshow(np.reshape(X[k], [width, height]), cmap='tab20c')\n",
    "plt.title('Originale')\n",
    "plt.axis('off')\n",
    "\n",
    "plt.subplot(1, 4, 2)\n",
    "plt.imshow(np.reshape(x,[width, height]), cmap='tab20c')\n",
    "plt.title('Danneggiato')\n",
    "plt.axis('off')\n",
    "\n",
    "plt.subplot(1, 4, 3)\n",
    "plt.imshow(np.reshape(xs, [width, height]), cmap='tab20c')\n",
    "plt.title('Sincrono')\n",
    "plt.axis('off')\n",
    "\n",
    "plt.subplot(1, 4, 4)\n",
    "plt.imshow(np.reshape(xa,[width, height]), cmap='tab20c')\n",
    "plt.title('Asincrono')\n",
    "plt.axis('off')\n",
    "\n",
    "plt.tight_layout()  \n",
    "plt.show()"
   ]
  },
  {
   "cell_type": "code",
   "execution_count": null,
   "id": "b6d0dc19-217a-4378-b2e6-41653e07943c",
   "metadata": {},
   "outputs": [],
   "source": []
  }
 ],
 "metadata": {
  "celltoolbar": "Slideshow",
  "kernelspec": {
   "display_name": "Python 3 (ipykernel)",
   "language": "python",
   "name": "python3"
  },
  "language_info": {
   "codemirror_mode": {
    "name": "ipython",
    "version": 3
   },
   "file_extension": ".py",
   "mimetype": "text/x-python",
   "name": "python",
   "nbconvert_exporter": "python",
   "pygments_lexer": "ipython3",
   "version": "3.9.7"
  }
 },
 "nbformat": 4,
 "nbformat_minor": 5
}
